{
  "nbformat": 4,
  "nbformat_minor": 0,
  "metadata": {
    "colab": {
      "name": "3LayerModel_DeepLearning",
      "provenance": [],
      "collapsed_sections": [],
      "authorship_tag": "ABX9TyMKMZrlHjXYH9JpwN2nIkPJ",
      "include_colab_link": true
    },
    "kernelspec": {
      "name": "python3",
      "display_name": "Python 3"
    }
  },
  "cells": [
    {
      "cell_type": "markdown",
      "metadata": {
        "id": "view-in-github",
        "colab_type": "text"
      },
      "source": [
        "<a href=\"https://colab.research.google.com/github/mauricioobgo/Machine_Learning/blob/master/3LayerModel_DeepLearning.ipynb\" target=\"_parent\"><img src=\"https://colab.research.google.com/assets/colab-badge.svg\" alt=\"Open In Colab\"/></a>"
      ]
    },
    {
      "cell_type": "markdown",
      "metadata": {
        "id": "As_JwIxveieW",
        "colab_type": "text"
      },
      "source": [
        "# Model Training With Keras 3 Layer Model"
      ]
    },
    {
      "cell_type": "markdown",
      "metadata": {
        "id": "02m2hd2BeysI",
        "colab_type": "text"
      },
      "source": [
        "Import Version of TensorFlow"
      ]
    },
    {
      "cell_type": "code",
      "metadata": {
        "id": "VzbgrMxrehtL",
        "colab_type": "code",
        "colab": {
          "base_uri": "https://localhost:8080/",
          "height": 34
        },
        "outputId": "8ac01893-53e6-40da-c841-a61656502132"
      },
      "source": [
        "import tensorflow as tf\n",
        "print(tf.__version__)"
      ],
      "execution_count": 1,
      "outputs": [
        {
          "output_type": "stream",
          "text": [
            "2.2.0\n"
          ],
          "name": "stdout"
        }
      ]
    },
    {
      "cell_type": "markdown",
      "metadata": {
        "id": "H0JvZ2hnfN9Y",
        "colab_type": "text"
      },
      "source": [
        "Loading Objetc with Data of MNIST"
      ]
    },
    {
      "cell_type": "code",
      "metadata": {
        "id": "1FB8bZdJe8iA",
        "colab_type": "code",
        "colab": {}
      },
      "source": [
        "mnist = tf.keras.datasets.fashion_mnist"
      ],
      "execution_count": 2,
      "outputs": []
    },
    {
      "cell_type": "code",
      "metadata": {
        "id": "SyNtsdUMghVZ",
        "colab_type": "code",
        "colab": {
          "base_uri": "https://localhost:8080/",
          "height": 153
        },
        "outputId": "e08211e4-9b40-47a1-bf44-9fa0fe5263b2"
      },
      "source": [
        "(training_images, training_labels), (test_images, test_labels) = mnist.load_data()"
      ],
      "execution_count": 3,
      "outputs": [
        {
          "output_type": "stream",
          "text": [
            "Downloading data from https://storage.googleapis.com/tensorflow/tf-keras-datasets/train-labels-idx1-ubyte.gz\n",
            "32768/29515 [=================================] - 0s 0us/step\n",
            "Downloading data from https://storage.googleapis.com/tensorflow/tf-keras-datasets/train-images-idx3-ubyte.gz\n",
            "26427392/26421880 [==============================] - 0s 0us/step\n",
            "Downloading data from https://storage.googleapis.com/tensorflow/tf-keras-datasets/t10k-labels-idx1-ubyte.gz\n",
            "8192/5148 [===============================================] - 0s 0us/step\n",
            "Downloading data from https://storage.googleapis.com/tensorflow/tf-keras-datasets/t10k-images-idx3-ubyte.gz\n",
            "4423680/4422102 [==============================] - 0s 0us/step\n"
          ],
          "name": "stdout"
        }
      ]
    },
    {
      "cell_type": "markdown",
      "metadata": {
        "id": "vqxdZu57glaE",
        "colab_type": "text"
      },
      "source": [
        "Showing Data Looks Like"
      ]
    },
    {
      "cell_type": "code",
      "metadata": {
        "id": "fumD5yvYgrPa",
        "colab_type": "code",
        "colab": {
          "base_uri": "https://localhost:8080/",
          "height": 758
        },
        "outputId": "03904518-21aa-406f-f06e-9d29b77d024d"
      },
      "source": [
        "import numpy as np\n",
        "#Setting the option of printing the aray untill 200 characters per line\n",
        "np.set_printoptions(linewidth=200)\n",
        "import matplotlib.pyplot as plt\n",
        "plt.imshow(training_images[9])\n",
        "print(training_labels[9])\n",
        "print(training_images[9])"
      ],
      "execution_count": 9,
      "outputs": [
        {
          "output_type": "stream",
          "text": [
            "5\n",
            "[[  0   0   0   0   0   0   0   0   0   0   0   0   0   0   0   0   0   0   0   0   0   0   0   0   0   0   0   0]\n",
            " [  0   0   0   0   0   0   0   0   0   0   0   0   0   0   0   0   0   0   0   0   0   0   0   0   0   0   0   0]\n",
            " [  0   0   0   0   0   0   0   0   0   0   0   0   0   1   1   0   0   0   0   0   0   0 164  50   0   7   0   0]\n",
            " [  0   0   0   0   0   0   0   0   1   0   0   1   0   0   1   1   0   0   5   0  45 217 255 176   0   6   0   0]\n",
            " [  0   0   0   0   0   0   0   0   0   1   1   0   3   3   5   9   0   2   0  62 236 231 215  27   0   1   0   0]\n",
            " [  0   0   0   0   0   0   0   0   0   0   0   0   0   0   0   0   0   0  29 244 231 234  74   0   1   0   0   0]\n",
            " [  0   0   0   0   0   0   0   0   0   2   0   0   0  23  41  59 111 134 138 226 202 217  22   0   1   0   0   0]\n",
            " [  0   0   0   0   0   0   0   0   0   5   0  35 179 195 182 225 198 241 177 199 205 210  26   0   1   0   0   3]\n",
            " [  0   0   0   0   0   0   0   0   0   0   0   0  19   0   0   0   0   0 235 243 198 119   0   3   1   3   4   0]\n",
            " [  0   0   0   0   0   0   0   0   0   0   0   0   0   2   5   0   0   0 170 252 181 182   0   0   0   0   0  19]\n",
            " [  0   0   0   0   0   0   0   0   0   0   0   0   1   1   0   0   4   0  76 255 183 219   9   0   0  42 191 164]\n",
            " [  0   0   0   0   0   0   0   0   0   0   0   0   0   0   0   0   2   0   0 237 198 204  75  47 221 221 238  25]\n",
            " [  0   0   0   0   0   0   0   0   0   0   0   1   0   0   1   2   1   0   0 209 212 229 255 254 232 227 174   0]\n",
            " [  0   0   0   0   0   0   0   0   0   0   0   0   0   0   1   0   0   0   0   0 210 255  87 101 230 238 105   0]\n",
            " [  0   0   0   0   0   0   0   0   0   0   0   0   0   1   0   4   1   0   1 250 236   0   0   0 224 233  20   0]\n",
            " [  0   0   0   0   0   1   3   4   4   2   0   0   0   1   0   2   0   0 204 185   0   0   0   6 227 202   0   0]\n",
            " [  0   1   0   1   0   0   0   0   0   0   0   0   0   1   0   0   0 173 159   0   0   2   0  10 237 153   0   0]\n",
            " [  0   0   1   0   0   0   0  40 138  21   0   0   2   0   8   0 132 195   0   0   0   0   0   8 240 118   0   1]\n",
            " [  5   6   4   0 132 232 208 208 241 217   0   0   0   1   0  29 217  35   0   9   0   2   0  25 238  58   0   2]\n",
            " [  0   0   0   0 181 255 231 233 219 238  77   0   0   0   0 196 145   0   0   0   0   2   0  49 228   0   0   2]\n",
            " [ 62  92   8   0 207 255 216 198 189 208 221   0   0   0 177 239  19   0   0   0   0   2   0  64 218   0   0   3]\n",
            " [ 96 249 223 211 237 243 211 228 255 252 255 138  38 175 242 173   0   0   0   0   0   2   0  89 204   0   0   2]\n",
            " [  0 197 240 240 237 219 222 244 235 243 244 255 255 234 233  45   0   2   0   0   0   2   0 105 188   0   0   0]\n",
            " [  0 165 253 224 229 242 244 232 239 242 243 237 230 230 207   0   0   1   0   0   0   9   0 120 165   0   8   0]\n",
            " [  0  45 255 252 253 241 229 223 230 235 240 239 233 245  65   0   2   0   0   0   0  10   0 128 143   0  10   0]\n",
            " [  0   0   0  72 202 255 255 255 255 255 255 255 255 194   0   0   2   0   0   0   0   8   0 186 160   0   9   0]\n",
            " [  0   0   0   0   0   0  38  89 135 162 180 179 152   0   0   1   0   0   0   0   0   1   0  68  29   0   3   0]\n",
            " [  0   0   0   0   0   0   0   0   0   0   0   0   0   0   0   0   0   0   0   0   0   0   0   0   0   0   0   0]]\n"
          ],
          "name": "stdout"
        },
        {
          "output_type": "display_data",
          "data": {
            "image/png": "[encoded data removed]",
            "text/plain": [
              "<Figure size 432x288 with 1 Axes>"
            ]
          },
          "metadata": {
            "tags": [],
            "needs_background": "light"
          }
        }
      ]
    },
    {
      "cell_type": "markdown",
      "metadata": {
        "id": "28lHExeoiVCY",
        "colab_type": "text"
      },
      "source": [
        "Normalization of Data"
      ]
    },
    {
      "cell_type": "code",
      "metadata": {
        "id": "6atIOa-4iY5M",
        "colab_type": "code",
        "colab": {}
      },
      "source": [
        "training_images  = training_images / 255.0\n",
        "test_images = test_images / 255.0\n",
        "#Gray Scale goes from 0 to 255 therefore /255 gives numbers between 0 and 1"
      ],
      "execution_count": null,
      "outputs": []
    },
    {
      "cell_type": "markdown",
      "metadata": {
        "id": "GJInKvgSi_iL",
        "colab_type": "text"
      },
      "source": [
        "Creating Model Object"
      ]
    },
    {
      "cell_type": "markdown",
      "metadata": {
        "id": "ZJnh7tiokpOP",
        "colab_type": "text"
      },
      "source": [
        "Sequential: That defines a SEQUENCE of layers in the neural network\n",
        "\n",
        "Flatten:  Flatten just takes that square and turns it into a 1 dimensional set.\n",
        "\n",
        "Dense: Adds a layer of neurons\n",
        "\n",
        "Relu effectively means \"If X>0 return X, else return 0\" -- so what it does it it only passes values 0 or greater to the next layer in the network.\n",
        "\n",
        "Softmax takes a set of values, and effectively picks the biggest one, so, for example, if the output of the last layer looks like [0.1, 0.1, 0.05, 0.1, 9.5, 0.1, 0.05, 0.05, 0.05], it saves you from fishing through it looking for the biggest value, and turns it into [0,0,0,0,1,0,0,0,0] -- The goal is to save a lot of coding!"
      ]
    },
    {
      "cell_type": "code",
      "metadata": {
        "id": "cSmexmHrjDhb",
        "colab_type": "code",
        "colab": {}
      },
      "source": [
        "\n",
        "model = tf.keras.models.Sequential([tf.keras.layers.Flatten(), \n",
        "                                    tf.keras.layers.Dense(128, activation=tf.nn.relu), \n",
        "                                    tf.keras.layers.Dense(10, activation=tf.nn.softmax)])"
      ],
      "execution_count": 10,
      "outputs": []
    },
    {
      "cell_type": "markdown",
      "metadata": {
        "id": "iTuLTUBqskqv",
        "colab_type": "text"
      },
      "source": [
        "Model Calculation and Training under 3 layers hidden layer with 128 neurons"
      ]
    },
    {
      "cell_type": "code",
      "metadata": {
        "id": "W-rcQfJssXK_",
        "colab_type": "code",
        "colab": {}
      },
      "source": [
        "model.compile(optimizer = tf.optimizers.Adam(),\n",
        "              loss = 'sparse_categorical_crossentropy',\n",
        "              metrics=['accuracy'])\n",
        "\n",
        "model.fit(training_images, training_labels, epochs=5)"
      ],
      "execution_count": null,
      "outputs": []
    }
  ]
}