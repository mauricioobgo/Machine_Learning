{
  "nbformat": 4,
  "nbformat_minor": 0,
  "metadata": {
    "colab": {
      "name": "Vectorization_efficiency",
      "provenance": [],
      "authorship_tag": "ABX9TyNvH5J+LgbPp8YT3BU1mRZy",
      "include_colab_link": true
    },
    "kernelspec": {
      "name": "python3",
      "display_name": "Python 3"
    }
  },
  "cells": [
    {
      "cell_type": "markdown",
      "metadata": {
        "id": "view-in-github",
        "colab_type": "text"
      },
      "source": [
        "<a href=\"https://colab.research.google.com/github/mauricioobgo/Machine_Learning/blob/master/Vectorization_efficiency.ipynb\" target=\"_parent\"><img src=\"https://colab.research.google.com/assets/colab-badge.svg\" alt=\"Open In Colab\"/></a>"
      ]
    },
    {
      "cell_type": "code",
      "metadata": {
        "id": "3lQW-qvNJiJW",
        "colab_type": "code",
        "colab": {}
      },
      "source": [
        "import numpy as np\n",
        "import time"
      ],
      "execution_count": 1,
      "outputs": []
    },
    {
      "cell_type": "code",
      "metadata": {
        "id": "BaFsl-X4Jp6l",
        "colab_type": "code",
        "colab": {
          "base_uri": "https://localhost:8080/",
          "height": 51
        },
        "outputId": "a371b231-d72b-4183-b7ff-78fc8f066ee4"
      },
      "source": [
        "a=np.random.rand(1000000)\n",
        "b=np.random.rand(1000000)\n",
        "\n",
        "tic=time.time()\n",
        "c=np.dot(a,b)\n",
        "toc=time.time()\n",
        "\n",
        "print(\"vectorization_efficiency: \"+ str(1000*(toc-tic))+\"ms\")\n",
        "print(\"c: \" +str(c))"
      ],
      "execution_count": 7,
      "outputs": [
        {
          "output_type": "stream",
          "text": [
            "vectorization_efficiency: 2.229928970336914ms\n",
            "c: 249894.19966155168\n"
          ],
          "name": "stdout"
        }
      ]
    },
    {
      "cell_type": "code",
      "metadata": {
        "id": "y2wnzgkIKVA1",
        "colab_type": "code",
        "colab": {
          "base_uri": "https://localhost:8080/",
          "height": 51
        },
        "outputId": "a6c28b09-ba36-4ea9-a844-e8f7560a9e4d"
      },
      "source": [
        "#None Vectorize Soluction\n",
        "c=0\n",
        "tic=time.time()\n",
        "for i in range(1000000):\n",
        "  c+=a[i]*b[i]\n",
        "\n",
        "toc=time.time()\n",
        "print(\"for loop efficiency: \"+ str(1000*(toc-tic))+\"ms\")\n",
        "\n",
        "print(\"c: \" +str(c))"
      ],
      "execution_count": 8,
      "outputs": [
        {
          "output_type": "stream",
          "text": [
            "for loop efficiency: 660.6504917144775ms\n",
            "c: 249894.19966155427\n"
          ],
          "name": "stdout"
        }
      ]
    }
  ]
}